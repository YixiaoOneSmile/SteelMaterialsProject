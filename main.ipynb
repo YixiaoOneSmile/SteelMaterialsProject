{
 "cells": [
  {
   "cell_type": "code",
   "execution_count": 18,
   "metadata": {},
   "outputs": [
    {
     "name": "stdout",
     "output_type": "stream",
     "text": [
      "data目录下共有 54 个文件夹:\n",
      "06Cr19Ni10\n",
      "10\n",
      "10#\n",
      "100Cr6\n",
      "100CrMnMoSi8-4-6\n",
      "100CrMnSi6-4\n",
      "100CrMo7-3\n",
      "100CrMo7-4\n",
      "16MnCr5\n",
      "18CrMo4\n",
      "18CrNiMo7-6\n",
      "18Ni300\n",
      "20Cr\n",
      "20CrMnTiH\n",
      "20CrMo\n",
      "20CrNiMo\n",
      "20MnCr5\n",
      "34Cr4\n",
      "38CrMoAl\n",
      "40Cr\n",
      "42CrMo\n",
      "42CrMo4\n",
      "440B\n",
      "44SMn28\n",
      "45#\n",
      "50CrMo4\n",
      "52100\n",
      "55#\n",
      "65Mn\n",
      "8620H\n",
      "8Cr4Mo4V\n",
      "9Cr18Mo\n",
      "C20\n",
      "C45\n",
      "Cf53\n",
      "Cr12MoV\n",
      "GCr15\n",
      "GCr15SiMn\n",
      "GCr18Mo\n",
      "M2\n",
      "M50\n",
      "P4\n",
      "P6\n",
      "S43C\n",
      "S45C\n",
      "S53C\n",
      "SAE1055\n",
      "SCM415H\n",
      "SCM420H\n",
      "SMK1010\n",
      "SNCM439\n",
      "SUJ2\n",
      "W6Mo5Cr4V2\n",
      "X45NiCrMo4\n"
     ]
    }
   ],
   "source": [
    "# 获取data目录下的所有文件夹\n",
    "import os\n",
    "\n",
    "folders = [folder for folder in os.listdir('./data/html_data') if os.path.isdir(os.path.join('./data/html_data', folder)) and folder != '.DS_Store']\n",
    "folders.sort()  # 对文件夹名称进行排序\n",
    "\n",
    "print(f\"data目录下共有 {len(folders)} 个文件夹:\")\n",
    "print(\"\\n\".join(folders))\n"
   ]
  },
  {
   "cell_type": "code",
   "execution_count": 19,
   "metadata": {},
   "outputs": [
    {
     "name": "stdout",
     "output_type": "stream",
     "text": [
      "已移动文件夹: 100Cr6\n",
      "已移动文件夹: X45NiCrMo4\n",
      "已移动文件夹: 65Mn\n",
      "已移动文件夹: 18CrMo4\n",
      "已移动文件夹: P4\n",
      "已移动文件夹: 55#\n",
      "已移动文件夹: 100CrMnSi6-4\n",
      "已移动文件夹: 34Cr4\n",
      "已移动文件夹: Cf53\n",
      "已移动文件夹: 18CrNiMo7-6\n",
      "已移动文件夹: 52100\n",
      "已移动文件夹: 42CrMo4\n",
      "已移动文件夹: SUJ2\n",
      "已移动文件夹: GCr15SiMn\n",
      "已移动文件夹: 440B\n",
      "已移动文件夹: S45C\n",
      "已移动文件夹: 20CrNiMo\n",
      "已移动文件夹: SCM420H\n",
      "已移动文件夹: SNCM439\n",
      "已移动文件夹: S53C\n",
      "已移动文件夹: GCr15\n",
      "已移动文件夹: Cr12MoV\n",
      "已移动文件夹: 10\n",
      "已移动文件夹: 8Cr4Mo4V\n",
      "已移动文件夹: W6Mo5Cr4V2\n",
      "已移动文件夹: 40Cr\n",
      "已移动文件夹: 38CrMoAl\n",
      "已移动文件夹: 20MnCr5\n",
      "已移动文件夹: SCM415H\n",
      "已移动文件夹: 10#\n",
      "已移动文件夹: P6\n",
      "已移动文件夹: 42CrMo\n",
      "已移动文件夹: 16MnCr5\n",
      "已移动文件夹: 8620H\n",
      "已移动文件夹: M50\n",
      "已移动文件夹: M2\n",
      "已移动文件夹: S43C\n",
      "已移动文件夹: GCr18Mo\n",
      "已移动文件夹: 100CrMnMoSi8-4-6\n",
      "已移动文件夹: 50CrMo4\n",
      "已移动文件夹: 20Cr\n",
      "已移动文件夹: 44SMn28\n",
      "已移动文件夹: 45#\n",
      "已移动文件夹: 06Cr19Ni10\n",
      "已移动文件夹: C45\n",
      "已移动文件夹: 20CrMo\n",
      "已移动文件夹: 100CrMo7-4\n",
      "已移动文件夹: 100CrMo7-3\n",
      "已移动文件夹: C20\n",
      "已移动文件夹: 18Ni300\n",
      "已移动文件夹: 20CrMnTiH\n",
      "已移动文件夹: SAE1055\n",
      "已移动文件夹: SMK1010\n",
      "已移动文件夹: 9Cr18Mo\n",
      "\n",
      "共移动 54 个文件夹到 html_data 目录\n"
     ]
    }
   ],
   "source": [
    "# 创建html_data目录\n",
    "import os\n",
    "import shutil\n",
    "\n",
    "html_data_dir = os.path.join('./data', 'html_data')\n",
    "\n",
    "# 如果html_data目录不存在则创建\n",
    "if not os.path.exists(html_data_dir):\n",
    "    os.makedirs(html_data_dir)\n",
    "\n",
    "# 获取data目录下的所有文件夹\n",
    "folders = [folder for folder in os.listdir('./data') \n",
    "          if os.path.isdir(os.path.join('./data', folder)) \n",
    "          and folder != '.DS_Store'\n",
    "          and folder != 'html_data']\n",
    "\n",
    "# 移动文件夹到html_data目录\n",
    "for folder in folders:\n",
    "    src = os.path.join('./data', folder)\n",
    "    dst = os.path.join(html_data_dir, folder)\n",
    "    try:\n",
    "        shutil.move(src, dst)\n",
    "        print(f\"已移动文件夹: {folder}\")\n",
    "    except Exception as e:\n",
    "        print(f\"移动文件夹 {folder} 时出错: {str(e)}\")\n",
    "\n",
    "print(f\"\\n共移动 {len(folders)} 个文件夹到 html_data 目录\")\n"
   ]
  },
  {
   "cell_type": "code",
   "execution_count": 5,
   "metadata": {},
   "outputs": [
    {
     "data": {
      "text/plain": [
       "72"
      ]
     },
     "execution_count": 5,
     "metadata": {},
     "output_type": "execute_result"
    }
   ],
   "source": [
    "# 排序所有材料名称\n",
    "materials = ['06Cr19Ni10', '10', '10#', '100C6', '100Cr6', '100Cr6-E', '100Cr6-G', '100Cr6A', '100CrMnMoSi8-4-6', '100CrMnSi6-4', '100CrMo7-3', '100CrMo7-4', '10B50', '10MnCrNi', '10MnCrNiMo', '16MnCr5', '16MnCr5H', '18CrMo4', '18CrNiMo7-6', '18Ni300', '20CRMNTi', '20Cr', '20CrMnTiH', '20CrMo', '20CrNiMo', '20MnCr5', '20MnCr5ZR', '31CrMnV9ZR', '34Cr4', '38CrMoA1', '38CrMoAL', '40Cr', '42CRMO', '42CrMo4', '440B', '44SMn28', '45#', '50CrMo4', '52100', '55#', '55#钢', '65Mn', '8620H', '8Cr4Mo4V', '9Cr18Mo', 'C20', 'C45', 'CF53', 'Cr12MoV', 'EP4', 'EP6', 'GCr15', 'GCr15SiMn', 'GCr18Mo', 'K1010', 'K52100', 'M2高速钢', 'M50', 'S43C', 'S45C', 'S53C', 'SAE1055', 'SAE5120', 'SCM415H', 'SCM420H', 'SKF3L', 'SNCM439', 'SUJ2', 'SUJ2S1', 'W6Mo5Cr4V2', 'X45NiCrMo4', 'ZF7B']\n",
    "\n",
    "len(materials)\n",
    "   \n"
   ]
  },
  {
   "cell_type": "code",
   "execution_count": 16,
   "metadata": {},
   "outputs": [
    {
     "name": "stdout",
     "output_type": "stream",
     "text": [
      "['CF53', 'EP4', 'EP6', 'K1010', 'K52100', 'M2高速钢', 'SAE5120', 'SKF3L', 'SUJ2S1', 'X45NiCrMo4', 'ZF7B']\n"
     ]
    }
   ],
   "source": [
    "# 获取空文件夹列表\n",
    "import os\n",
    "\n",
    "empty_folders = [folder for folder in os.listdir('./data') \n",
    "                if folder != '.DS_Store' and \n",
    "                not os.listdir(os.path.join('./data_html', folder))]\n",
    "empty_folders.sort()\n",
    "print(empty_folders)\n",
    "\n",
    "\n"
   ]
  },
  {
   "cell_type": "code",
   "execution_count": 17,
   "metadata": {},
   "outputs": [
    {
     "name": "stdout",
     "output_type": "stream",
     "text": [
      "已删除空文件夹: EP4\n",
      "已删除空文件夹: K1010\n",
      "已删除空文件夹: SUJ2S1\n",
      "已删除空文件夹: SKF3L\n",
      "已删除空文件夹: EP6\n",
      "已删除空文件夹: SAE5120\n",
      "已删除空文件夹: ZF7B\n",
      "\n",
      "共删除 7 个空文件夹\n"
     ]
    }
   ],
   "source": [
    "# 删除空文件夹\n",
    "import os\n",
    "import shutil\n",
    "\n",
    "# 获取空文件夹列表\n",
    "empty_folders = [folder for folder in os.listdir('./data') \n",
    "                if folder != '.DS_Store' and \n",
    "                not os.listdir(os.path.join('./data_html', folder))]\n",
    "\n",
    "# 删除空文件夹\n",
    "for folder in empty_folders:\n",
    "    folder_path = os.path.join('./data', folder)\n",
    "    try:\n",
    "        os.rmdir(folder_path)  # 使用os.rmdir()只能删除空文件夹\n",
    "        print(f\"已删除空文件夹: {folder}\")\n",
    "    except Exception as e:\n",
    "        print(f\"删除文件夹 {folder} 时出错: {str(e)}\")\n",
    "\n",
    "print(f\"\\n共删除 {len(empty_folders)} 个空文件夹\")\n"
   ]
  }
 ],
 "metadata": {
  "kernelspec": {
   "display_name": "datalab",
   "language": "python",
   "name": "python3"
  },
  "language_info": {
   "codemirror_mode": {
    "name": "ipython",
    "version": 3
   },
   "file_extension": ".py",
   "mimetype": "text/x-python",
   "name": "python",
   "nbconvert_exporter": "python",
   "pygments_lexer": "ipython3",
   "version": "3.11.8"
  }
 },
 "nbformat": 4,
 "nbformat_minor": 2
}
